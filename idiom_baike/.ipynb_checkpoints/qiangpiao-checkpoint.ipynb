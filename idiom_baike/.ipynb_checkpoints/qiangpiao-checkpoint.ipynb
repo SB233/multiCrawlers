{
 "cells": [
  {
   "cell_type": "code",
   "execution_count": 96,
   "metadata": {
    "collapsed": true
   },
   "outputs": [],
   "source": [
    "#!/usr/bin/python2.7\n",
    "# -*- coding: utf-8 -*-  \n",
    "\n",
    "from splinter.browser import Browser\n",
    "from time import sleep\n",
    "#traceback模块被用来跟踪异常返回信息\n",
    "import traceback\n"
   ]
  },
  {
   "cell_type": "code",
   "execution_count": 97,
   "metadata": {
    "collapsed": true
   },
   "outputs": [],
   "source": [
    "ticket_url = \"http://msg.urbtix.hk/\""
   ]
  },
  {
   "cell_type": "code",
   "execution_count": 98,
   "metadata": {
    "collapsed": false
   },
   "outputs": [],
   "source": [
    "def qiangpiao():\n",
    "    global b\n",
    "#使用splinter打开chrome浏览器\n",
    "    b = Browser(driver_name=\"chrome\")\n",
    "    count = 0\n",
    "    b.visit(ticket_url)\n",
    "    # 循环点击预订\n",
    "    \n",
    "    while b.url == ticket_url:\n",
    "        b.find_by_id(\"toMainButton\").click()\n",
    "#程序自动点击查询后，结果如下：\n",
    "        count +=1\n",
    "        print u\"循环点击查询... 第 %s 次\" % count\n",
    "        sleep(2)\n",
    "        \n",
    "    print  u\"能做的都做了.....不再对浏览器进行任何操作\"\n",
    "    print ticket_url\n",
    "    \n"
   ]
  },
  {
   "cell_type": "code",
   "execution_count": 99,
   "metadata": {
    "collapsed": false
   },
   "outputs": [
    {
     "name": "stdout",
     "output_type": "stream",
     "text": [
      "循环点击查询... 第 1 次\n",
      "循环点击查询... 第 2 次\n",
      "循环点击查询... 第 3 次\n",
      "循环点击查询... 第 4 次\n",
      "循环点击查询... 第 5 次\n",
      "循环点击查询... 第 6 次\n",
      "循环点击查询... 第 7 次\n",
      "循环点击查询... 第 8 次\n",
      "循环点击查询... 第 9 次\n",
      "循环点击查询... 第 10 次\n",
      "循环点击查询... 第 11 次\n",
      "循环点击查询... 第 12 次\n",
      "循环点击查询... 第 13 次\n",
      "循环点击查询... 第 14 次\n",
      "循环点击查询... 第 15 次\n",
      "循环点击查询... 第 16 次\n",
      "循环点击查询... 第 17 次\n",
      "循环点击查询... 第 18 次\n",
      "循环点击查询... 第 19 次\n",
      "循环点击查询... 第 20 次\n",
      "循环点击查询... 第 21 次\n",
      "循环点击查询... 第 22 次\n",
      "循环点击查询... 第 23 次\n",
      "循环点击查询... 第 24 次\n",
      "循环点击查询... 第 25 次\n",
      "循环点击查询... 第 26 次\n",
      "循环点击查询... 第 27 次\n",
      "能做的都做了.....不再对浏览器进行任何操作\n"
     ]
    }
   ],
   "source": [
    "if __name__ == \"__main__\":\n",
    "    qiangpiao()\n",
    "    qiangpiao()"
   ]
  }
 ],
 "metadata": {
  "kernelspec": {
   "display_name": "Python 2",
   "language": "python",
   "name": "python2"
  },
  "language_info": {
   "codemirror_mode": {
    "name": "ipython",
    "version": 2
   },
   "file_extension": ".py",
   "mimetype": "text/x-python",
   "name": "python",
   "nbconvert_exporter": "python",
   "pygments_lexer": "ipython2",
   "version": "2.7.13"
  }
 },
 "nbformat": 4,
 "nbformat_minor": 2
}
