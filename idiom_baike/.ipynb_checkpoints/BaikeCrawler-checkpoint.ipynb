{
 "cells": [
  {
   "cell_type": "code",
   "execution_count": 4,
   "metadata": {
    "collapsed": false
   },
   "outputs": [],
   "source": [
    "#coding:utf8\n",
    "#written by python 2.7\n",
    "#\n",
    "import re\n",
    "import urllib\n",
    "import urlparse\n",
    "from bs4 import BeautifulSoup"
   ]
  },
  {
   "cell_type": "code",
   "execution_count": 5,
   "metadata": {
    "collapsed": false
   },
   "outputs": [
    {
     "ename": "NameError",
     "evalue": "name 'arrange' is not defined",
     "output_type": "error",
     "traceback": [
      "\u001b[0;31m---------------------------------------------------------------------------\u001b[0m",
      "\u001b[0;31mNameError\u001b[0m                                 Traceback (most recent call last)",
      "\u001b[0;32m<ipython-input-5-7d7446f4dbc4>\u001b[0m in \u001b[0;36m<module>\u001b[0;34m()\u001b[0m\n\u001b[1;32m      6\u001b[0m \u001b[0;34m\u001b[0m\u001b[0m\n\u001b[1;32m      7\u001b[0m \u001b[0;34m\u001b[0m\u001b[0m\n\u001b[0;32m----> 8\u001b[0;31m \u001b[0;32mfor\u001b[0m \u001b[0mi\u001b[0m \u001b[0;32min\u001b[0m \u001b[0marrange\u001b[0m\u001b[0;34m(\u001b[0m\u001b[0mlen\u001b[0m\u001b[0;34m(\u001b[0m\u001b[0mchengyu\u001b[0m\u001b[0;34m)\u001b[0m\u001b[0;34m)\u001b[0m\u001b[0;34m:\u001b[0m\u001b[0;34m\u001b[0m\u001b[0m\n\u001b[0m\u001b[1;32m      9\u001b[0m     \u001b[0;32mtry\u001b[0m\u001b[0;34m:\u001b[0m\u001b[0;34m\u001b[0m\u001b[0m\n\u001b[1;32m     10\u001b[0m \u001b[0;34m\u001b[0m\u001b[0m\n",
      "\u001b[0;31mNameError\u001b[0m: name 'arrange' is not defined"
     ]
    }
   ],
   "source": [
    "with open('input.txt') as f:\n",
    "    chengyu = [line.strip().decode('utf8') for line in f.readlines()]\n",
    "\n",
    "data_want = dict() #Used to store data contained in one url\n",
    "data_list = list() #Used to store all data as list\n",
    "\n",
    "    i = 0\n",
    "for ci in chengyu:\n",
    "    try:\n",
    "        \n",
    "        url = 'http://baike.baidu.com/item/' + chengyu[i].encode('utf-8') \n",
    "\n",
    "        ##Download and Prettify Using BeautifulSoup\n",
    "        response = urllib.urlopen(url)\n",
    "        print 'code:', response.getcode() #return 200 if crawing success\n",
    "        data = response.read()\n",
    "        soup = BeautifulSoup(data)\n",
    "        #print soup.prettify()\n",
    "        #print soup #test crawing\n",
    "\n",
    "        ##Store important data in a dictionary\n",
    "        data_want['url'] = url\n",
    "\n",
    "        # <dd class=\"lemmaWgt-lemmaTitle-title\">\n",
    "        title_node = soup.find('dd', attrs = {'class' : 'lemmaWgt-lemmaTitle-title'}).find('h1')\n",
    "        data_want['title'] = title_node.getText()\n",
    "\n",
    "        # <div class=\"lemma-summary\" label-module=\"lemmaSummary\">\n",
    "        sum_node = soup.find('div', attrs = {'class' : 'lemma-summary'})\n",
    "        data_want['summary'] = sum_node.getText()\n",
    "\n",
    "        data_list.append(data_want) #add one url_data to list\n",
    "        # print('title:%s\\nsummary:%s\\n' %(dic['title'], dic['summary']))\n",
    "        i = i + 1\n",
    "    except:\n",
    "        i = i + 1\n",
    "        print 'Craw failed!'\n",
    "\n",
    "\n",
    "\n"
   ]
  },
  {
   "cell_type": "code",
   "execution_count": 3,
   "metadata": {
    "collapsed": false
   },
   "outputs": [
    {
     "name": "stdout",
     "output_type": "stream",
     "text": [
      "Start Saving\n"
     ]
    }
   ],
   "source": [
    "##Store data in file\n",
    "print 'Start Saving'\n",
    "fhand = open('baike.txt', 'w')\n",
    "for dic in data_list:\n",
    "    fhand.write('title:%s\\nsummary:%s\\n' %( dic['title'].encode('utf-8'), dic['summary'].encode('utf-8')))\n",
    "    fhand.write('\\n')\n",
    "\n",
    "fhand.close()"
   ]
  },
  {
   "cell_type": "code",
   "execution_count": null,
   "metadata": {
    "collapsed": true
   },
   "outputs": [],
   "source": []
  }
 ],
 "metadata": {
  "kernelspec": {
   "display_name": "Python 2",
   "language": "python",
   "name": "python2"
  },
  "language_info": {
   "codemirror_mode": {
    "name": "ipython",
    "version": 2
   },
   "file_extension": ".py",
   "mimetype": "text/x-python",
   "name": "python",
   "nbconvert_exporter": "python",
   "pygments_lexer": "ipython2",
   "version": "2.7.13"
  }
 },
 "nbformat": 4,
 "nbformat_minor": 2
}
