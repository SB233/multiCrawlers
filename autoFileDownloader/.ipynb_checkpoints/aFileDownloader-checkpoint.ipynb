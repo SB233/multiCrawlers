{
 "cells": [
  {
   "cell_type": "code",
   "execution_count": 1,
   "metadata": {
    "collapsed": true
   },
   "outputs": [],
   "source": [
    "# this is the template to download all the notes from some websties\n",
    "# url: https://www.cse.cuhk.edu.hk/~andrejb/csc3130/f11/\n",
    "\n",
    "import urllib.request\n",
    "import re\n",
    "import os"
   ]
  },
  {
   "cell_type": "code",
   "execution_count": 2,
   "metadata": {
    "collapsed": true
   },
   "outputs": [],
   "source": [
    "# open the url and read\n",
    "def getHtml(url):\n",
    "    page = urllib.request.urlopen(url)\n",
    "    html = page.read()\n",
    "    page.close()\n",
    "    \n",
    "    return html"
   ]
  },
  {
   "cell_type": "code",
   "execution_count": 3,
   "metadata": {
    "collapsed": true
   },
   "outputs": [],
   "source": [
    "# compile the regular expressions and find\n",
    "# all the files we need\n",
    "def getUrl(html):\n",
    "    reg = r'(?:href|HREF)=\"?((?:http://)?.+?\\.pdf)'\n",
    "    url_re = re.compile(reg)\n",
    "    url_lst = url_re.findall(html.decode('gb2312'))\n",
    "    return(url_lst)\n",
    "\n",
    "def getUrl(html): \n",
    "    reg = r'(?:hred|HREF)=\"?((?:http://)?.+?\\.ppt)'# the regular expression for filename searching\n",
    "    url_re = re.complie(reg)\n",
    "    url_lst = url_re.findall(html.decode('gb2312')) # chinese website decode: 'UTF-8'\n",
    "    return(url_lst)"
   ]
  },
  {
   "cell_type": "code",
   "execution_count": null,
   "metadata": {
    "collapsed": true
   },
   "outputs": [],
   "source": [
    "def getFile(url):\n",
    "    file_name = url.split('/')[-1]\n",
    "    u = urllib.request.urlopen(url)\n",
    "    f = open(file_name, 'wb')\n",
    "\n",
    "    block_sz = 8192\n",
    "    while True:\n",
    "        buffer = u.read(block_sz)\n",
    "        if not buffer:\n",
    "            break\n",
    "\n",
    "        f.write(buffer)\n",
    "    f.close()\n",
    "    print (\"Sucessful to download\" + \" \" + file_name)"
   ]
  }
 ],
 "metadata": {
  "kernelspec": {
   "display_name": "Python 3",
   "language": "python",
   "name": "python3"
  },
  "language_info": {
   "codemirror_mode": {
    "name": "ipython",
    "version": 3
   },
   "file_extension": ".py",
   "mimetype": "text/x-python",
   "name": "python",
   "nbconvert_exporter": "python",
   "pygments_lexer": "ipython3",
   "version": "3.6.1"
  }
 },
 "nbformat": 4,
 "nbformat_minor": 2
}
